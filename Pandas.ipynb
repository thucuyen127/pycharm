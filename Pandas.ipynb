{
  "nbformat": 4,
  "nbformat_minor": 0,
  "metadata": {
    "colab": {
      "name": "Pandas.ipynb",
      "provenance": [],
      "authorship_tag": "ABX9TyMuzEicpUsh8JydULShS/w0",
      "include_colab_link": true
    },
    "kernelspec": {
      "name": "python3",
      "display_name": "Python 3"
    }
  },
  "cells": [
    {
      "cell_type": "markdown",
      "metadata": {
        "id": "view-in-github",
        "colab_type": "text"
      },
      "source": [
        "<a href=\"https://colab.research.google.com/github/thucuyen127/pycharm/blob/master/Pandas.ipynb\" target=\"_parent\"><img src=\"https://colab.research.google.com/assets/colab-badge.svg\" alt=\"Open In Colab\"/></a>"
      ]
    },
    {
      "cell_type": "code",
      "metadata": {
        "id": "09pjhTIV4b6B"
      },
      "source": [
        "import pandas as pd\r\n",
        "import csv\r\n",
        "import numpy as np\r\n"
      ],
      "execution_count": 12,
      "outputs": []
    },
    {
      "cell_type": "markdown",
      "metadata": {
        "id": "wXv40GcW42hl"
      },
      "source": [
        "Khởi tạo seri"
      ]
    },
    {
      "cell_type": "code",
      "metadata": {
        "colab": {
          "base_uri": "https://localhost:8080/"
        },
        "id": "smvKC4rK4z6a",
        "outputId": "d8e1fcb9-0d6c-46b4-abcf-c360b55737da"
      },
      "source": [
        "with open('writeData.csv', mode='w') as file:\r\n",
        "    writer = csv.writer(file, delimiter=',', quotechar='\"', quoting=csv.QUOTE_MINIMAL)\r\n",
        "    writer.writerow(['NAME', 'AGE', 'Class'])\r\n",
        "    writer.writerow(['Duy', '12','B1'])\r\n",
        "    writer.writerow(['Ngan', '19','B2'])\r\n",
        "    writer.writerow(['Uyen', '14', 'B3'])\r\n",
        "    writer.writerow(['Tham', '12','B4'])\r\n",
        "    writer.writerow(['Hien', '18', 'B5'])\r\n",
        "    writer.writerow(['Thanh', '19','B6'])\r\n",
        "\r\n",
        "result = pd.read_csv('writeData.csv')\r\n",
        "print(result)\r\n",
        "print('-'*50)"
      ],
      "execution_count": 7,
      "outputs": [
        {
          "output_type": "stream",
          "text": [
            "    NAME  AGE Class\n",
            "0    Duy   12    B1\n",
            "1   Ngan   19    B2\n",
            "2   Uyen   14    B3\n",
            "3   Tham   12    B4\n",
            "4   Hien   18    B5\n",
            "5  Thanh   19    B6\n",
            "--------------------------------------------------\n"
          ],
          "name": "stdout"
        }
      ]
    },
    {
      "cell_type": "markdown",
      "metadata": {
        "id": "9fDd9-qU5Cto"
      },
      "source": [
        "Sorting,Combine Dataframes,Dùng concat,merge, join"
      ]
    },
    {
      "cell_type": "code",
      "metadata": {
        "colab": {
          "base_uri": "https://localhost:8080/"
        },
        "id": "XpJvjZSy5oCU",
        "outputId": "05b559f0-3c9f-4c9c-dc79-899644c57775"
      },
      "source": [
        "s = pd.Series([np.nan, 124, 332, 110, 511]) #cho ra 1 kết quả theo thứ tự: NaN, 124.0, 332.0, 110.0, 511.0\r\n",
        "t = s.sort_values(ascending=True) #Sắp xếp lại theo thứ tự tăng dần: 124.0, 332.0, 511.0, 110.0/False thì ngược lại\r\n",
        "print(t)\r\n",
        "print('-'*50)\r\n",
        "\r\n",
        "\r\n",
        "dict_data = {'Treatment': ['C', 'C', 'C'], 'Biorep': ['A', 'A', 'A'], 'Techrep': [1, 1, 1], 'AAseq': ['ELVISLIVES', 'ELVISLIVES', 'ELVISLIVES'], 'mz':[500.0, 500.5, 501.0]}\r\n",
        "df_a = pd.DataFrame(dict_data)\r\n",
        "dict_data = {'Treatment1': ['C', 'C', 'C'], 'Biorep1': ['A', 'A', 'A'], 'Techrep1': [1, 1, 1], 'AAseq1': ['ELVISLIVES', 'ELVISLIVES', 'ELVISLIVES'], 'inte1':[1100.0, 1050.0, 1010.0]}\r\n",
        "df_b = pd.DataFrame(dict_data)\r\n",
        "\r\n",
        "pd.concat([df_a,df_b], axis=1)\r\n",
        "df_a.merge(df_b, left_index=True, right_index=True)\r\n",
        "print('-'*50)"
      ],
      "execution_count": 13,
      "outputs": [
        {
          "output_type": "stream",
          "text": [
            "3    110.0\n",
            "1    124.0\n",
            "2    332.0\n",
            "4    511.0\n",
            "0      NaN\n",
            "dtype: float64\n",
            "--------------------------------------------------\n",
            "--------------------------------------------------\n"
          ],
          "name": "stdout"
        }
      ]
    },
    {
      "cell_type": "markdown",
      "metadata": {
        "id": "7hzOXViD58m2"
      },
      "source": [
        "Đọc csv, json,...."
      ]
    },
    {
      "cell_type": "code",
      "metadata": {
        "id": "bsN10KOA7TJI"
      },
      "source": [
        "Doc = pd.read_csv('Filecsv.csv') #Đọc file csv trong máy\r\n",
        "print(doc.head()) \r\n",
        "td = 'https://data.cese.nsw.gov.au/data/dataset/f0880fef-1dc8-37e3-905b-d2b015375510/resource/f794e36a-91e3-422a-beda-9ba8d2e9a58e/download/table-21-2019-enrolments-in-year-10-subjects.csv'\r\n",
        "data = pd.read_csv(td) #đọc file csv trên mạng \r\n",
        "print(data.head())\r\n",
        "js = 'https://data.cese.nsw.gov.au/data/dataset/1a8ee944-e56c-3480-aaf9-683047aa63a0/resource/64f0e82f-f678-4cec-9283-0b343aff1c61/download/headcount.json'\r\n",
        "datat = pd.read_json(js) #đọc file json trên mạng\r\n",
        "print(datat.head())\r\n",
        "print('-'*50)"
      ],
      "execution_count": null,
      "outputs": []
    },
    {
      "cell_type": "markdown",
      "metadata": {
        "id": "AFRM8m7L7WO5"
      },
      "source": [
        "Tính thống kê: min, max, avg"
      ]
    },
    {
      "cell_type": "code",
      "metadata": {
        "colab": {
          "base_uri": "https://localhost:8080/"
        },
        "id": "RpKfe_Pp7aHV",
        "outputId": "75e62f44-baeb-4844-c795-77c5c20db8de"
      },
      "source": [
        "data = {'Month': ['Jan ','Feb ','Mar ','Apr ','May ','Jun '],\r\n",
        "        'Jon Commission': [7000,5500,6000,4500,8000,6000],\r\n",
        "        'Maria Commission': [10000,7500,6500,6000,9000,8500], \r\n",
        "        'Olivia Commission': [3000,6000,4500,4500,4000,5500]} \r\n",
        "df = pd.DataFrame(data,columns=['Month','Jon Commission','Maria Commission','Olivia Commission']) #tạo dataframe \r\n",
        "avg_columns = df.mean(axis=0) #Thu nhập trung bình từ nhiệm vụ trong 6 tháng\r\n",
        "max_columns = df.max(axis=0) #Thu nhập cao nhất từ nhiệm vụ trong 6 tháng\r\n",
        "min_columns = df.min(axis=0) #Thu nhập thấp nhất từ nhiệm vụ trong 6 tháng\r\n",
        "print(min_columns)\r\n",
        "print(max_columns)\r\n",
        "print(avg_columns)"
      ],
      "execution_count": 16,
      "outputs": [
        {
          "output_type": "stream",
          "text": [
            "Month                Apr \n",
            "Jon Commission       4500\n",
            "Maria Commission     6000\n",
            "Olivia Commission    3000\n",
            "dtype: object\n",
            "Month                 May \n",
            "Jon Commission        8000\n",
            "Maria Commission     10000\n",
            "Olivia Commission     6000\n",
            "dtype: object\n",
            "Jon Commission       6166.666667\n",
            "Maria Commission     7916.666667\n",
            "Olivia Commission    4583.333333\n",
            "dtype: float64\n"
          ],
          "name": "stdout"
        }
      ]
    },
    {
      "cell_type": "markdown",
      "metadata": {
        "id": "HnIdwwjg7c_Z"
      },
      "source": [
        ""
      ]
    }
  ]
}