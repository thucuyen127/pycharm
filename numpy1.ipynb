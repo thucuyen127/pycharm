{
  "nbformat": 4,
  "nbformat_minor": 0,
  "metadata": {
    "colab": {
      "name": "numpy1.ipynb",
      "provenance": [],
      "authorship_tag": "ABX9TyNO84E/nS/np5i6aZ95F9DP",
      "include_colab_link": true
    },
    "kernelspec": {
      "name": "python3",
      "display_name": "Python 3"
    }
  },
  "cells": [
    {
      "cell_type": "markdown",
      "metadata": {
        "id": "view-in-github",
        "colab_type": "text"
      },
      "source": [
        "<a href=\"https://colab.research.google.com/github/thucuyen127/pycharm/blob/master/numpy1.ipynb\" target=\"_parent\"><img src=\"https://colab.research.google.com/assets/colab-badge.svg\" alt=\"Open In Colab\"/></a>"
      ]
    },
    {
      "cell_type": "code",
      "metadata": {
        "id": "QFKn_-mgNZ50",
        "colab": {
          "base_uri": "https://localhost:8080/"
        },
        "outputId": "07f15962-3a39-4b19-8b00-ace83370b4a3"
      },
      "source": [
        "import numpy as np\r\n",
        "import random\r\n",
        "\r\n",
        "def taomatran(n): #Hàm tạo ma trận n hàng n cột\r\n",
        "  a = np.random.randint(-10,10,(n,n))\r\n",
        "  return a\r\n",
        "m=int(input('m = '))\r\n",
        "a = taomatran(m)\r\n",
        "b = taomatran(m)\r\n",
        "print('A = \\n',a)\r\n",
        "print('B = \\n',b)\r\n",
        "print('A + B = \\n',a + b)\r\n",
        "print('A - B = \\n',a - b)\r\n",
        "print('A * B = \\n',a @ b)\r\n",
        "print('A / B = \\n',a  @ np.linalg.matrix_power(b, -1))\r\n",
        "print('A * 5 = \\n',a * 5)\r\n",
        "print('A / 5 = \\n',a / 5)\r\n",
        "print('ma tran chuyen vi cua A:\\n',np.transpose(a))\r\n"
      ],
      "execution_count": null,
      "outputs": [
        {
          "output_type": "stream",
          "text": [
            "m = 3\n",
            "A = \n",
            " [[-8  6 -1]\n",
            " [-3  3 -3]\n",
            " [-2  0 -4]]\n",
            "B = \n",
            " [[  4  -6  -9]\n",
            " [  0   4 -10]\n",
            " [  7   8  -3]]\n",
            "A + B = \n",
            " [[ -4   0 -10]\n",
            " [ -3   7 -13]\n",
            " [  5   8  -7]]\n",
            "A - B = \n",
            " [[-12  12   8]\n",
            " [ -3  -1   7]\n",
            " [ -9  -8  -1]]\n",
            "A * B = \n",
            " [[-39  64  15]\n",
            " [-33   6   6]\n",
            " [-36 -20  30]]\n",
            "A / B = \n",
            " [[-0.99152542  1.16525424 -0.57627119]\n",
            " [-0.34957627  0.68326271 -0.22881356]\n",
            " [-0.02542373  0.50423729 -0.27118644]]\n",
            "A * 5 = \n",
            " [[-40  30  -5]\n",
            " [-15  15 -15]\n",
            " [-10   0 -20]]\n",
            "A / 5 = \n",
            " [[-1.6  1.2 -0.2]\n",
            " [-0.6  0.6 -0.6]\n",
            " [-0.4  0.  -0.8]]\n",
            "ma tran chuyen vi cua A:\n",
            " [[-8 -3 -2]\n",
            " [ 6  3  0]\n",
            " [-1 -3 -4]]\n"
          ],
          "name": "stdout"
        }
      ]
    }
  ]
}