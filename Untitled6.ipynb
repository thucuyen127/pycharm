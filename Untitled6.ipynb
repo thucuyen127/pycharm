{
  "nbformat": 4,
  "nbformat_minor": 0,
  "metadata": {
    "colab": {
      "name": "Untitled6.ipynb",
      "provenance": [],
      "authorship_tag": "ABX9TyMZCMgW9ivrQ5a9AR+BNeXl",
      "include_colab_link": true
    },
    "kernelspec": {
      "name": "python3",
      "display_name": "Python 3"
    }
  },
  "cells": [
    {
      "cell_type": "markdown",
      "metadata": {
        "id": "view-in-github",
        "colab_type": "text"
      },
      "source": [
        "<a href=\"https://colab.research.google.com/github/thucuyen127/pycharm/blob/master/Untitled6.ipynb\" target=\"_parent\"><img src=\"https://colab.research.google.com/assets/colab-badge.svg\" alt=\"Open In Colab\"/></a>"
      ]
    },
    {
      "cell_type": "markdown",
      "metadata": {
        "id": "cY4tx3rzB52B"
      },
      "source": [
        "Câu 1: Hãy tạo 1 đối tượng kiểu Series có tối thiểu 10 phần tử (kiểu số) với giá trị tùy ý thích của bạn. In giá trị của Series đó ra màn hình"
      ]
    },
    {
      "cell_type": "code",
      "metadata": {
        "colab": {
          "base_uri": "https://localhost:8080/"
        },
        "id": "joDhqXZgByqb",
        "outputId": "5ead809a-1a68-4232-dc58-d43506508249"
      },
      "source": [
        "import pandas as pd\r\n",
        "import numpy as np\r\n",
        "\r\n",
        "sr1 = pd.Series([1, 22, 13, 400, 50, 6, 7, 80, 69, 11])\r\n",
        "print(sr1)"
      ],
      "execution_count": 26,
      "outputs": [
        {
          "output_type": "stream",
          "text": [
            "0      1\n",
            "1     22\n",
            "2     13\n",
            "3    400\n",
            "4     50\n",
            "5      6\n",
            "6      7\n",
            "7     80\n",
            "8     69\n",
            "9     11\n",
            "dtype: int64\n"
          ],
          "name": "stdout"
        }
      ]
    },
    {
      "cell_type": "markdown",
      "metadata": {
        "id": "qxw4AramB4_g"
      },
      "source": [
        "Câu 2: Hãy tạo 1 đối tượng kiểu Series với giá trị khởi tạo hình thành từ dữ liệu kiểu Dictionary. In kết quả ra màn hình"
      ]
    },
    {
      "cell_type": "code",
      "metadata": {
        "colab": {
          "base_uri": "https://localhost:8080/"
        },
        "id": "LAuRGeoCB27I",
        "outputId": "040bea7c-e6e7-4c10-f8b3-b138d063f668"
      },
      "source": [
        "dic = {'Duy': 1, 'Ngan': 2, 'Hien': 3, 'Thanh': 4, 'Tham': 5}\r\n",
        "\r\n",
        "sr2 = pd.Series(dic)\r\n",
        "print(sr2)"
      ],
      "execution_count": 24,
      "outputs": [
        {
          "output_type": "stream",
          "text": [
            "Duy      1\n",
            "Ngan     2\n",
            "Hien     3\n",
            "Thanh    4\n",
            "Tham     5\n",
            "dtype: int64\n"
          ],
          "name": "stdout"
        }
      ]
    },
    {
      "cell_type": "markdown",
      "metadata": {
        "id": "Jyh9VQP0CoqY"
      },
      "source": [
        "Câu 3: Sử dụng series ở câu 1, hãy thay đổi giá trị của cột index từ kiểu số theo kiểu ký tự với giá trị do bạn tự xác định."
      ]
    },
    {
      "cell_type": "code",
      "metadata": {
        "colab": {
          "base_uri": "https://localhost:8080/"
        },
        "id": "GDQ98ZRmCrnj",
        "outputId": "3cf78a03-bb8e-4235-8aeb-d6898271ee72"
      },
      "source": [
        "sr1.index = ['Ua', 'Uk', 'Dc', 'Dd', 'Ne', 'Nf', 'Nk', 'Tj', 'Tk', 'Tl']\r\n",
        "print(sr1)"
      ],
      "execution_count": 27,
      "outputs": [
        {
          "output_type": "stream",
          "text": [
            "Ua      1\n",
            "Uk     22\n",
            "Dc     13\n",
            "Dd    400\n",
            "Ne     50\n",
            "Nf      6\n",
            "Nk      7\n",
            "Tj     80\n",
            "Tk     69\n",
            "Tl     11\n",
            "dtype: int64\n"
          ],
          "name": "stdout"
        }
      ]
    },
    {
      "cell_type": "markdown",
      "metadata": {
        "id": "70d5fDPpDEEl"
      },
      "source": [
        "Câu 4: Sử dụng series ở câu 2, hãy truy cập đến phần tử thứ 5 và in ra màn hình"
      ]
    },
    {
      "cell_type": "code",
      "metadata": {
        "colab": {
          "base_uri": "https://localhost:8080/"
        },
        "id": "VaGSEk18DHCw",
        "outputId": "8f32ea75-6011-46fc-9c0d-ea0de8a0915f"
      },
      "source": [
        "print(sr2[4])"
      ],
      "execution_count": 8,
      "outputs": [
        {
          "output_type": "stream",
          "text": [
            "5\n"
          ],
          "name": "stdout"
        }
      ]
    },
    {
      "cell_type": "code",
      "metadata": {
        "id": "rFJTFnUoDKxp"
      },
      "source": [
        "Câu 5: Sử dụng series ở câu 3, hãy truy cập đến 1 phần tử dựa theo chỉ số kiểu ký tự do bạn lựa chọn và in ra màn hình"
      ],
      "execution_count": null,
      "outputs": []
    },
    {
      "cell_type": "code",
      "metadata": {
        "colab": {
          "base_uri": "https://localhost:8080/"
        },
        "id": "m3ZD6SrKDNIF",
        "outputId": "6291f7b0-030e-44db-bc8f-264a99b53f44"
      },
      "source": [
        "print(sr1['Tk'])"
      ],
      "execution_count": 28,
      "outputs": [
        {
          "output_type": "stream",
          "text": [
            "69\n"
          ],
          "name": "stdout"
        }
      ]
    },
    {
      "cell_type": "markdown",
      "metadata": {
        "id": "AmWUQZkRDVPp"
      },
      "source": [
        "Câu 6: Sử dụng series ở câu 3, hãy tìm ra tính chất đặc thù trong các chỉ số kiểu kí tự, thực hiện vòng lặp for duyệt trên các chỉ mục kiểu kí tự này để lọc ra những phần tử thỏa mãn điều kiện và in ra màn hình"
      ]
    },
    {
      "cell_type": "code",
      "metadata": {
        "colab": {
          "base_uri": "https://localhost:8080/"
        },
        "id": "vVM0a0OpDRWE",
        "outputId": "d15a22c9-7089-4fae-afed-89fccdfdbacd"
      },
      "source": [
        "sr1[[name.endswith('k') for name in sr.index]]"
      ],
      "execution_count": 29,
      "outputs": [
        {
          "output_type": "execute_result",
          "data": {
            "text/plain": [
              "Uk    22\n",
              "Nk     7\n",
              "Tk    69\n",
              "dtype: int64"
            ]
          },
          "metadata": {
            "tags": []
          },
          "execution_count": 29
        }
      ]
    },
    {
      "cell_type": "markdown",
      "metadata": {
        "id": "srWph6d_D8xD"
      },
      "source": [
        "Câu 7: Sử dụng series ở câu 1, hãy đổi tên cột index thành 'STT' và đặt tên cho series là 'Gia_tri'. In kết quả ra màn hình"
      ]
    },
    {
      "cell_type": "code",
      "metadata": {
        "colab": {
          "base_uri": "https://localhost:8080/"
        },
        "id": "K2zgXEXMDTmd",
        "outputId": "c7057773-3322-4bf8-e47e-0cea770449cd"
      },
      "source": [
        "sr1.name = 'Gia_tri'\r\n",
        "sr1.index.name = 'STT'\r\n",
        "sr1"
      ],
      "execution_count": 30,
      "outputs": [
        {
          "output_type": "execute_result",
          "data": {
            "text/plain": [
              "STT\n",
              "Ua      1\n",
              "Uk     22\n",
              "Dc     13\n",
              "Dd    400\n",
              "Ne     50\n",
              "Nf      6\n",
              "Nk      7\n",
              "Tj     80\n",
              "Tk     69\n",
              "Tl     11\n",
              "Name: Gia_tri, dtype: int64"
            ]
          },
          "metadata": {
            "tags": []
          },
          "execution_count": 30
        }
      ]
    },
    {
      "cell_type": "markdown",
      "metadata": {
        "id": "_L4Wfa3nEHg9"
      },
      "source": [
        "Câu 8: Hãy áp dụng hàm logarith của gói numpy với series ở câu 1 và in kết quả ra màn hình"
      ]
    },
    {
      "cell_type": "code",
      "metadata": {
        "colab": {
          "base_uri": "https://localhost:8080/"
        },
        "id": "f0Tr7QmREJcx",
        "outputId": "e7746771-8c08-4770-d416-89f4990ef988"
      },
      "source": [
        "\r\n",
        "np.log(sr1)"
      ],
      "execution_count": 31,
      "outputs": [
        {
          "output_type": "execute_result",
          "data": {
            "text/plain": [
              "STT\n",
              "Ua    0.000000\n",
              "Uk    3.091042\n",
              "Dc    2.564949\n",
              "Dd    5.991465\n",
              "Ne    3.912023\n",
              "Nf    1.791759\n",
              "Nk    1.945910\n",
              "Tj    4.382027\n",
              "Tk    4.234107\n",
              "Tl    2.397895\n",
              "Name: Gia_tri, dtype: float64"
            ]
          },
          "metadata": {
            "tags": []
          },
          "execution_count": 31
        }
      ]
    },
    {
      "cell_type": "markdown",
      "metadata": {
        "id": "mniI9kfBEML0"
      },
      "source": [
        "Câu 9: Lọc các giá trị của series 1 > 15 và in ra màn hình"
      ]
    },
    {
      "cell_type": "code",
      "metadata": {
        "colab": {
          "base_uri": "https://localhost:8080/"
        },
        "id": "JDIlvTCjEPEn",
        "outputId": "0a55fc91-4ae8-4ac1-84d2-0e26f613d1f0"
      },
      "source": [
        "sr1[sr1>15]"
      ],
      "execution_count": 32,
      "outputs": [
        {
          "output_type": "execute_result",
          "data": {
            "text/plain": [
              "STT\n",
              "Uk     22\n",
              "Dd    400\n",
              "Ne     50\n",
              "Tj     80\n",
              "Tk     69\n",
              "Name: Gia_tri, dtype: int64"
            ]
          },
          "metadata": {
            "tags": []
          },
          "execution_count": 32
        }
      ]
    }
  ]
}